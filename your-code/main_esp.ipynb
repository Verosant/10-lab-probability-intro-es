{
 "cells": [
  {
   "cell_type": "markdown",
   "metadata": {},
   "source": [
    "# Probability"
   ]
  },
  {
   "cell_type": "markdown",
   "metadata": {},
   "source": [
    "## 1. Reto 1\n",
    "Hay una caja con 10 bolas blancas, 12 bolas rojas y 8 bolas negras. Calcula la probabilidad de:\n",
    "* Sacar una bola blanca.\n",
    "* Sacar una bola blanca en la primera extracción y una bola negra en la segunda extracción sin reemplazar la primera.\n",
    "* Sacar una bola blanca en la primera extracción y una bola negra en la segunda extracción reemplazando la primera.\n",
    "* Sacar 3 bolas y que sean todas de diferentes colores."
   ]
  },
  {
   "cell_type": "markdown",
   "metadata": {},
   "source": [
    "### 1.1. Calculating the probability of drawing a white ball first"
   ]
  },
  {
   "cell_type": "code",
   "execution_count": null,
   "metadata": {},
   "outputs": [],
   "source": [
    "import pandas as pd\n",
    "\n",
    "#Creating a dictionary with the colors and the queantity of the balls in order to be able to create the dataframe.\n",
    "data = {\n",
    "    'Color': ['White', 'Red', 'Black'],\n",
    "    'Quantity' : [10, 12, 8]\n",
    "}\n",
    "\n",
    "df= pd.DataFrame(data)\n",
    "\n",
    "# Calculate the probability of drawing a ball of each color\n",
    "df['Probability'] = df['Quantity'] / df ['Quantity'].sum()\n",
    "\n",
    "# Display the df with the new column\n",
    "print(df)\n",
    "\n",
    "#Calculating the probability of drawing a white ball first\n",
    "prob_white = df.loc[df['Color'] == 'White', 'Probability'].values[0]\n",
    "\n",
    "print(prob_white)"
   ]
  },
  {
   "cell_type": "markdown",
   "metadata": {},
   "source": [
    "### 1.2. Calculating the probability of drawing a white ball first and a black ball second without replacement"
   ]
  },
  {
   "cell_type": "code",
   "execution_count": null,
   "metadata": {},
   "outputs": [],
   "source": [
    "#Calculating the probability of drawing a black ball second\n",
    "#Updating the quantity of balls after drawing a white one\n",
    "df.loc[df['Color'] == 'White', 'Quantity'] -= 1\n",
    "\n",
    "#Recalculate the probabilities with the new quantity of balls\n",
    "df['Probability'] = df['Quantity'] / df['Quantity'].sum()\n",
    "\n",
    "#Calculate the probability of drawing a black ball second\n",
    "prob_black = df.loc[df['Color'] == 'Black', 'Probability'].values[0]\n",
    "\n",
    "#Calculate the joint probability\n",
    "prob_joint = prob_white * prob_black\n",
    "\n",
    "# Display results\n",
    "print(f\"Probability of drawing a white ball first: {prob_white:.2f}\")\n",
    "print(f\"Probability of drawing a black ball second: {prob_black:.2f}\")\n",
    "print(f\"Joint probability: {prob_joint:.3f}\")"
   ]
  },
  {
   "cell_type": "markdown",
   "metadata": {},
   "source": [
    "### 1.3. Calculating the probability of drawing a white ball first and a black ball second with replacement"
   ]
  },
  {
   "cell_type": "code",
   "execution_count": null,
   "metadata": {
    "scrolled": true
   },
   "outputs": [],
   "source": [
    "#Calculating the probability of drawing a white ball and then a black ball\n",
    "#Updating the quantity of balls after runing the code provided above\n",
    "df.loc[df['Color'] == 'White', 'Quantity'] += 1\n",
    "df['Probability'] = df['Quantity'] / df['Quantity'].sum()\n",
    "\n",
    "# Calculating the probability of drawing a white ball first\n",
    "prob_white = df.loc[df['Color'] == 'White', 'Probability'].values[0]\n",
    "\n",
    "# Calculate the probability of drawing a black ball second\n",
    "prob_black = df.loc[df['Color'] == 'Black', 'Probability'].values[0]\n",
    "\n",
    "# Calculate the joint probability (independent events)\n",
    "prob_joint = prob_white * prob_black\n",
    "\n",
    "# Results\n",
    "print(f\"Joint probability: {prob_joint:.3f}\")"
   ]
  },
  {
   "cell_type": "code",
   "execution_count": null,
   "metadata": {},
   "outputs": [],
   "source": [
    "### 1.4. Probability of drawing 3 balls and each one being a different colors"
   ]
  },
  {
   "cell_type": "code",
   "execution_count": null,
   "metadata": {},
   "outputs": [],
   "source": [
    "# Calculate the total number of balls\n",
    "total_balls = df['Quantity'].sum()\n",
    "\n",
    "#Probability of drawing a white ball (first draw)\n",
    "prob_white = df.loc[df['Color'] == 'White', 'Quantity'].values[0] / total_balls\n",
    "#Update the quantity of balls after drawing the white ball\n",
    "df.loc[df['Color'] == 'White', 'Quantity'] -= 1\n",
    "\n",
    "total_balls -= 1  # Update the total number of balls\n",
    "\n",
    "#Probability of drawing a red ball (second draw)\n",
    "prob_red = df.loc[df['Color'] == 'Red', 'Quantity'].values[0] / total_balls\n",
    "#Update the quantity of balls after drawing the red ball\n",
    "df.loc[df['Color'] == 'Red', 'Quantity'] -= 1\n",
    "\n",
    "total_balls -= 1  # Update the total number of balls\n",
    "\n",
    "#Probability of drawing a black ball (third draw)\n",
    "prob_black = df.loc[df['Color'] == 'Black', 'Quantity'].values[0] / total_balls\n",
    "\n",
    "#Calculate the joint probability\n",
    "total_probability = prob_white * prob_red * prob_black\n",
    "\n",
    "#Results\n",
    "print(f\"Joint probability of drawing a white, red, and black ball: {total_probability:.3f}\")"
   ]
  },
  {
   "cell_type": "markdown",
   "metadata": {},
   "source": [
    "## 2. Reto 2\n",
    "\n",
    "Quieres ir de picnic el sábado. Odias la lluvia y quieres planificar tu fin de semana. Para ayudarte a tomar una decisión, recopilas los siguientes datos sobre los días lluviosos:\n",
    "\n",
    "* El 40% de todos los días están nublados.\n",
    "* Aproximadamente el 50% de los días nublados son lluviosos.\n",
    "* Aproximadamente el 20% de los días no nublados son lluviosos.\n",
    "\n",
    "¿Cuál es la probabilidad de que llueva el próximo sábado?"
   ]
  },
  {
   "cell_type": "code",
   "execution_count": null,
   "metadata": {},
   "outputs": [],
   "source": [
    "rain_prob = (0.4 * 0.5) + (0.2 * 0.6)\n",
    "\n",
    "print(f\"The probability of rain is: {rain_prob:.3f}\")"
   ]
  },
  {
   "cell_type": "markdown",
   "metadata": {},
   "source": [
    "## 3. Reto 3\n",
    "\n",
    "A y B son eventos de una probabilidad tal que \\(P(A) = 0.3\\), \\(P(B) = 0.6\\) y \\(P(A \\cap B) = 0.1\\) Probabilidad de que A y B ocurran.\n",
    "\n",
    "¿Cuáles de las siguientes afirmaciones son verdaderas?\n",
    "**SUGERENCIA: dibuja un gran diagrama de Venn a tu lado**\n",
    "* \\(P(\\overline{A}) = 0.7\\)\n",
    "* \\(P(A \\cup B) = 0.6\\)\n",
    "* \\(P(A \\cap \\overline{B}) = 0.2\\)\n",
    "* \\(P(A \\cup \\overline{A}) = 1\\)  \n",
    "* \\(P(A \\cap (B \\cup \\overline{B})) = 0.4\\)\n",
    "* \\(P(\\overline{A} \\cap \\overline{B}) = 0.3\\)\n",
    "* \\(P(\\overline{A \\cap B}) = 0.9\\)"
   ]
  },
  {
   "cell_type": "code",
   "execution_count": null,
   "metadata": {},
   "outputs": [],
   "source": [
    "!pip install matplotlib matplotlib-venn\n",
    "\n",
    "import matplotlib.pyplot as plt\n",
    "from matplotlib_venn import venn2\n",
    "\n",
    "set_A = 0.3    # P(A)\n",
    "set_B = 0.6    # P(B)\n",
    "set_AB = 0.1   # P(A ∩ B)\n",
    "\n",
    "# Diagrama de Venn\n",
    "venn = venn2(subsets = (set_A - set_AB, set_B - set_AB, set_AB), set_labels=('A', 'B'))\n",
    "\n",
    "# Mostrar el diagrama\n",
    "plt.title(\"Venn Diagram of Events A and B\")\n",
    "plt.show()"
   ]
  },
  {
   "cell_type": "markdown",
   "metadata": {},
   "source": [
    "### 3.1. (P(\\overline{A}) = 0.7) La probabilidad de que 𝐴 no ocurra.\n",
    "\n",
    "(P(\\overline{A})= 1- P(A)\n",
    "(P(\\overline{A})= 1 - 0.3 = 0.7\n",
    "\n",
    "The statement is true"
   ]
  },
  {
   "cell_type": "markdown",
   "metadata": {},
   "source": [
    "### 3.2. (P(A \\cup B) = 0.6)\n",
    "\n",
    "(P(A \\cup B) = 0.3 + 0.6 -0.1 = 0.8\n",
    "\n",
    "The statement is false."
   ]
  },
  {
   "cell_type": "markdown",
   "metadata": {},
   "source": [
    "### 3.3. (P(A \\cap \\overline{B}) = 0.2)\n",
    "\n",
    "P(A \\cap \\overline{B})= 0.3 - 0.1= 0.2\n",
    "\n",
    "The statement is true"
   ]
  },
  {
   "cell_type": "markdown",
   "metadata": {},
   "source": [
    "### 3.4. (P(A \\cup \\overline{A}) = 1)\n",
    "\n",
    "The statement is true, since the only thing that can happen is that A or not A occurs."
   ]
  },
  {
   "cell_type": "markdown",
   "metadata": {},
   "source": [
    "### 3.5. (P(A \\cap (B \\cup \\overline{B})) = 0.4)\n",
    "(P(A \\cap (B \\cup \\overline{B})) = P(A)=0.3\n",
    "\n",
    "The statement is false."
   ]
  },
  {
   "cell_type": "markdown",
   "metadata": {},
   "source": [
    "### 3.6. (P(\\overline{A} \\cap \\overline{B}) = 0.3)\n",
    "\n",
    "(P(A \\cup B) = 0.8)\n",
    "(P(\\overline{A} \\cap \\overline{B}) = 1 - 0.8 = 0.2\n",
    "\n",
    "The statement is false."
   ]
  },
  {
   "cell_type": "markdown",
   "metadata": {},
   "source": [
    "### 3.7. (P(\\overline{A \\cap B}) = 0.9)\n",
    "\n",
    "(P(\\overline{A \\cap B})= 1 - (P(A \\cap B)\n",
    "\n",
    "(P(\\overline{A \\cap B})= 0.3 - 0.1 = 0.2\n",
    "\n",
    "The statement is true."
   ]
  },
  {
   "cell_type": "markdown",
   "metadata": {},
   "source": [
    "## 4. Reto 4\n",
    "\n",
    "* Si alguien viaja a China, la probabilidad de contraer Covid es del 1%\n",
    "* Si alguien viaja a Italia, la probabilidad de contraer Covid es del 20%\n",
    "\n",
    "Lanzo un dado con números 1, 2, 3, 4, 5, 6:\n",
    "* Si sale 1: Vuelo a Italia\n",
    "* Si no sale 1: Vuelo a China\n",
    "\n",
    "Durante mi viaje, contraje Covid. ¿Cuál es la probabilidad de que haya volado a China?"
   ]
  },
  {
   "cell_type": "markdown",
   "metadata": {
    "scrolled": true
   },
   "source": [
    "### Prob_china\n",
    "\n",
    "p(covid) = p(covid_china)* p(flight_china) + p(covid_italy) * p(flight_italy) =\n",
    "p(covid) = 0.01 * 0.83 + 0.20 * 0.17 = 0.04\n",
    "\n",
    "prob_china = p(covid_china)* p(flight_china) / p(covid)\n",
    "prob_china = (0.01 * 0.83) /0.04 = 0.20\n",
    "\n",
    "The probability of flying to china and contracting COVID is 20%"
   ]
  },
  {
   "cell_type": "markdown",
   "metadata": {},
   "source": [
    "## 5. BONUS\n",
    "\n",
    "Lanzas 2 dados. ¿Cuál es la probabilidad de que la suma de los números sea 7? ¿Y 8? ¿Y 9? Luego simula 10000 veces y dibuja un gráfico de conteo.\n",
    "\n",
    "tu explicación aquí"
   ]
  },
  {
   "cell_type": "markdown",
   "metadata": {},
   "source": [
    "### 5.1. Probabilities\n",
    "\n",
    "prob_7 = (6/36) options: (1,6), (2,5), (3,4), (4,3), (5,2), (6,1)\n",
    "prob_8 = (5/36) options: (2,6), (3,5), (4,4), (5,3), (6,2)\n",
    "prob_9 = (4/36) options: (3,6), (4,5), (5,4), (6,3)"
   ]
  },
  {
   "cell_type": "code",
   "execution_count": null,
   "metadata": {},
   "outputs": [],
   "source": [
    "prob_7 = (6/36)\n",
    "prob_8 = (5/36)\n",
    "prob_9 = (4/36)\n",
    "\n",
    "print(prob_7)\n",
    "print(prob_8)\n",
    "print(prob_9)"
   ]
  },
  {
   "cell_type": "markdown",
   "metadata": {},
   "source": [
    "### 5.2. Graph"
   ]
  },
  {
   "cell_type": "code",
   "execution_count": null,
   "metadata": {},
   "outputs": [],
   "source": [
    "import numpy as np\n",
    "import matplotlib.pyplot as plt\n",
    "import seaborn as sns\n",
    "\n",
    "# Simulations\n",
    "num_simulations = 10000\n",
    "\n",
    "# Rolling the dices\n",
    "dice1 = np.random.randint(1, 7, num_simulations)\n",
    "dice2 = np.random.randint(1, 7, num_simulations)\n",
    "\n",
    "# Calculate the sum of the two dice\n",
    "sum_dice = dice1 + dice2\n",
    "\n",
    "# Histogram\n",
    "plt.figure(figsize=(12, 6))\n",
    "plt.hist(sum_dice, bins=np.arange(2, 14) - 0.5, color='skyblue', edgecolor='black', alpha=0.7)\n",
    "plt.title('Histogram of Sums from Rolling Two Dice (10000 Simulations)')\n",
    "plt.xlabel('Sum')\n",
    "plt.ylabel('Frequency')\n",
    "plt.xticks(np.arange(2, 13))\n",
    "plt.axvline(7, color='r', linestyle='--', label='Probability Sum = 7')\n",
    "plt.axvline(8, color='g', linestyle='--', label='Probability Sum = 8')\n",
    "plt.axvline(9, color='b', linestyle='--', label='Probability Sum = 9')\n",
    "plt.legend()\n",
    "plt.grid()\n",
    "plt.show()"
   ]
  }
 ],
 "metadata": {
  "kernelspec": {
   "display_name": "Python 3 (ipykernel)",
   "language": "python",
   "name": "python3"
  },
  "language_info": {
   "codemirror_mode": {
    "name": "ipython",
    "version": 3
   },
   "file_extension": ".py",
   "mimetype": "text/x-python",
   "name": "python",
   "nbconvert_exporter": "python",
   "pygments_lexer": "ipython3",
   "version": "3.12.4"
  },
  "toc": {
   "base_numbering": 1,
   "nav_menu": {},
   "number_sections": false,
   "sideBar": true,
   "skip_h1_title": false,
   "title_cell": "Table of Contents",
   "title_sidebar": "Contents",
   "toc_cell": false,
   "toc_position": {
    "height": "calc(100% - 180px)",
    "left": "10px",
    "top": "150px",
    "width": "296.475px"
   },
   "toc_section_display": true,
   "toc_window_display": false
  },
  "varInspector": {
   "cols": {
    "lenName": 16,
    "lenType": 16,
    "lenVar": 40
   },
   "kernels_config": {
    "python": {
     "delete_cmd_postfix": "",
     "delete_cmd_prefix": "del ",
     "library": "var_list.py",
     "varRefreshCmd": "print(var_dic_list())"
    },
    "r": {
     "delete_cmd_postfix": ") ",
     "delete_cmd_prefix": "rm(",
     "library": "var_list.r",
     "varRefreshCmd": "cat(var_dic_list()) "
    }
   },
   "types_to_exclude": [
    "module",
    "function",
    "builtin_function_or_method",
    "instance",
    "_Feature"
   ],
   "window_display": false
  }
 },
 "nbformat": 4,
 "nbformat_minor": 4
}
